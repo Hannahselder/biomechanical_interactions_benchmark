{
 "cells": [
  {
   "cell_type": "code",
   "execution_count": null,
   "id": "5f485ca3",
   "metadata": {},
   "outputs": [],
   "source": [
    "from utils import create_df, "
   ]
  }
 ],
 "metadata": {
  "language_info": {
   "name": "python"
  }
 },
 "nbformat": 4,
 "nbformat_minor": 5
}
